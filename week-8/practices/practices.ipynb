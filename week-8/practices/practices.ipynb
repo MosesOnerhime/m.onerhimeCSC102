{
 "cells": [
  {
   "cell_type": "code",
   "execution_count": 36,
   "id": "6a4a54d3",
   "metadata": {},
   "outputs": [],
   "source": [
    "# A Python program to\n",
    "# demonstrate defining\n",
    "# a class\n",
    "\n",
    "class Parrot():\n",
    "    pass"
   ]
  },
  {
   "cell_type": "code",
   "execution_count": 37,
   "id": "1ee910a4",
   "metadata": {},
   "outputs": [],
   "source": [
    "obj = Parrot()"
   ]
  },
  {
   "cell_type": "code",
   "execution_count": 38,
   "id": "8d91480d",
   "metadata": {},
   "outputs": [
    {
     "name": "stdout",
     "output_type": "stream",
     "text": [
      "mammal\n",
      "I'm a mammal\n",
      "I'm a dog\n"
     ]
    }
   ],
   "source": [
    "# Python program to\n",
    "# demonstrate instantiating\n",
    "# a class\n",
    "\n",
    "\n",
    "class Dog():\n",
    "\n",
    "    # A simple class\n",
    "    # attribute\n",
    "    attr1 = \"mammal\"\n",
    "    attr2 = \"dog\"\n",
    "\n",
    "    # A class method\n",
    "    def fun(self):\n",
    "        print(\"I'm a\", self.attr1)\n",
    "        print(\"I'm a\", self.attr2)\n",
    "\n",
    "# Object instantiation\n",
    "Rodger = Dog()\n",
    "\n",
    "# Accessing class attributes\n",
    "# and method through objects\n",
    "\n",
    "print(Rodger.attr1)\n",
    "Rodger.fun()\n"
   ]
  },
  {
   "cell_type": "code",
   "execution_count": 39,
   "id": "e7df7d7f",
   "metadata": {},
   "outputs": [
    {
     "name": "stdout",
     "output_type": "stream",
     "text": [
      "Address of self =  2295722880080\n",
      "Address of class object =  2295722880080\n"
     ]
    }
   ],
   "source": [
    "# It is clearly seen that self and obj is referring to the same object\n",
    "\n",
    "class check():\n",
    "    def __init__(self):\n",
    "        print(\"Address of self = \",id(self))\n",
    "\n",
    "obj = check()\n",
    "print(\"Address of class object = \",id(obj))\n"
   ]
  },
  {
   "cell_type": "code",
   "execution_count": 40,
   "id": "8168ae97",
   "metadata": {},
   "outputs": [
    {
     "name": "stdout",
     "output_type": "stream",
     "text": [
      "Model is Toyota Corolla\n",
      "Color is blue\n",
      "Model is Kia Cerato\n",
      "Color is green\n"
     ]
    }
   ],
   "source": [
    "# Another example using SELF\n",
    "\n",
    "class car():\n",
    "\n",
    "    # init method or constructor\n",
    "    def __init__(self, model, color):\n",
    "        self.model = model\n",
    "        self.color = color\n",
    "\n",
    "    def show(self):\n",
    "        print(\"Model is\", self.model )\n",
    "        print(\"Color is\", self.color )\n",
    "\n",
    "\n",
    "toyota = car(\"Toyota Corolla\", \"blue\")\n",
    "kia = car(\"Kia Cerato\", \"green\")\n",
    "\n",
    "toyota.show() # same output as car.show(toyota)\n",
    "kia.show() # same output as car.show(kia)\n",
    "\n"
   ]
  },
  {
   "cell_type": "code",
   "execution_count": 41,
   "id": "966f2492",
   "metadata": {},
   "outputs": [
    {
     "name": "stdout",
     "output_type": "stream",
     "text": [
      "This is Constructor\n",
      "Worked fine\n"
     ]
    }
   ],
   "source": [
    "# Self is always required as the first argument\n",
    "class check():\n",
    "    def __init__(self):\n",
    "        print(\"This is Constructor\")\n",
    "\n",
    "object = check()\n",
    "print(\"Worked fine\")"
   ]
  },
  {
   "cell_type": "code",
   "execution_count": 42,
   "id": "1bdeefac",
   "metadata": {},
   "outputs": [
    {
     "name": "stdout",
     "output_type": "stream",
     "text": [
      "we have used another parameter name in place of self\n"
     ]
    }
   ],
   "source": [
    "# Write Python3 code here\n",
    "\n",
    "class this_is_class():\n",
    "    def __init__(in_place_of_self):\n",
    "        print(\"we have used another \"\n",
    "        \"parameter name in place of self\")\n",
    "\n",
    "object = this_is_class()\n"
   ]
  },
  {
   "cell_type": "code",
   "execution_count": 18,
   "id": "14679d84",
   "metadata": {},
   "outputs": [
    {
     "name": "stdout",
     "output_type": "stream",
     "text": [
      "Hello, my name is Moses\n"
     ]
    }
   ],
   "source": [
    "# A class with init method\n",
    "\n",
    "class Person():\n",
    "\n",
    "    # init method or constructor\n",
    "    def __init__(self, name):\n",
    "        self.name = name\n",
    "\n",
    "    # Method\n",
    "    def say_hi(self):\n",
    "        print('Hello, my name is', self.name)\n",
    "\n",
    "p = Person('Moses')\n",
    "p.say_hi()\n"
   ]
  },
  {
   "cell_type": "code",
   "execution_count": 43,
   "id": "b1c39d1e",
   "metadata": {},
   "outputs": [
    {
     "name": "stdout",
     "output_type": "stream",
     "text": [
      "Hello, my name is Enobasi and I am 17\n",
      "Hello, my name is Leela and I am 19\n",
      "Hello, my name is Divine and I am 18\n"
     ]
    }
   ],
   "source": [
    "# Another class with init method\n",
    "class Person():\n",
    "\n",
    "    # init method or constructor\n",
    "    def __init__(self, name, age):\n",
    "        self.name = name\n",
    "        self.age = age\n",
    "\n",
    "    # Method\n",
    "    def say_hi(self):\n",
    "        print(f'Hello, my name is {self.name} and I am {self.age}')\n",
    "\n",
    "# Creating different objects\n",
    "\n",
    "p1 = Person('Enobasi', 17)\n",
    "p2 = Person('Leela', 19)\n",
    "p3 = Person('Divine', 18)\n",
    "\n",
    "p1.say_hi()\n",
    "p2.say_hi()\n",
    "p3.say_hi()\n"
   ]
  },
  {
   "cell_type": "code",
   "execution_count": 32,
   "id": "8d7d4a6d",
   "metadata": {},
   "outputs": [
    {
     "name": "stdout",
     "output_type": "stream",
     "text": [
      "CSC 102 - Introduction to Problem Solving\n"
     ]
    }
   ],
   "source": [
    "class Program():\n",
    "\n",
    "    # default constructor\n",
    "    def __init__(self, course):\n",
    "        self.course = \"CSC 102 - Introduction to Problem Solving\"\n",
    "\n",
    "    # a method for printing data members\n",
    "    def print_Course(self):\n",
    "        print(self.course)\n",
    "\n",
    "\n",
    "# creating object of the class\n",
    "obj = Program('')\n",
    "\n",
    "# calling the instance method using the object obj\n",
    "obj.print_Course()\n"
   ]
  },
  {
   "cell_type": "code",
   "execution_count": 44,
   "id": "53216f3d",
   "metadata": {},
   "outputs": [
    {
     "name": "stdout",
     "output_type": "stream",
     "text": [
      "Enter first number: 1\n",
      "Enter second number: 1\n",
      "First number = 1\n",
      "Second number = 1\n",
      "Addition of two numbers = 2\n"
     ]
    }
   ],
   "source": [
    "class Addition():\n",
    "    first = 0\n",
    "    second = 0\n",
    "    answer = 0\n",
    "    \n",
    "    # parameterized constructor\n",
    "    def __init__(self, f, s):\n",
    "        self.first = f\n",
    "        self.second = s\n",
    "\n",
    "    def display(self):\n",
    "        print(\"First number = \" + str(self.first))\n",
    "        print(\"Second number = \" + str(self.second))\n",
    "        print(\"Addition of two numbers = \" + str(self.answer))\n",
    "\n",
    "    def calculate(self):\n",
    "        self.answer = self.first + self.second\n",
    "\n",
    "# creating object of the class\n",
    "# this will invoke parameterized constructor\n",
    "num1 = int(input(\"Enter first number: \"))\n",
    "num2 = int(input(\"Enter second number: \"))\n",
    "obj = Addition(num1, num2)\n",
    "\n",
    "# perform Addition\n",
    "obj.calculate()\n",
    "\n",
    "# display result\n",
    "obj.display()\n"
   ]
  },
  {
   "cell_type": "code",
   "execution_count": 53,
   "id": "4c34845f",
   "metadata": {},
   "outputs": [
    {
     "name": "stdout",
     "output_type": "stream",
     "text": [
      "Oscar is a mammal\n",
      "Peaches is also a mammal\n",
      "My name is Oscar\n",
      "My name is Peaches\n"
     ]
    }
   ],
   "source": [
    "class Dog():\n",
    "\n",
    "    # class attribute\n",
    "    attr1 = \"mammal\"\n",
    "\n",
    "    # Instance attribute\n",
    "    def __init__(self, name):\n",
    "        self.name = name\n",
    "\n",
    "# Object instantiation\n",
    "dog1 = Dog(\"Oscar\")\n",
    "dog2 = Dog(\"Peaches\")\n",
    "\n",
    "# Accessing class attributes\n",
    "print(\"Oscar is a {}\".format(dog1.__class__.attr1))\n",
    "print(\"Peaches is also a {}\".format(dog2.__class__.attr1))\n",
    "\n",
    "# Accessing instance attributes\n",
    "print(\"My name is {}\".format(dog1.name))\n",
    "print(\"My name is {}\".format(dog2.name))\n"
   ]
  },
  {
   "cell_type": "markdown",
   "id": "5ce4ae20",
   "metadata": {},
   "source": [
    " "
   ]
  },
  {
   "cell_type": "code",
   "execution_count": 54,
   "id": "56e12c2b",
   "metadata": {},
   "outputs": [
    {
     "name": "stdout",
     "output_type": "stream",
     "text": [
      "Enter the name of the first student: Moses\n",
      "Enter the name of the second student: Ryan\n",
      "My name is Moses\n",
      "I'm studying Computer Science\n",
      "My name is Ryan\n",
      "I'm studying Computer Science\n"
     ]
    }
   ],
   "source": [
    "class SST():\n",
    "\n",
    "    # class attribute\n",
    "    prog1 = \"Computer Science\"\n",
    "\n",
    "    # Instance attribute\n",
    "    def __init__(self, name):\n",
    "        self.name = name\n",
    "\n",
    "    def speak(self):\n",
    "        print(\"My name is {}\".format(self.name))\n",
    "        print(\"I'm studying {}\".format(self.__class__.prog1))\n",
    "\n",
    "# Object instantiation\n",
    "stud1 = SST(input(\"Enter the name of the first student: \"))\n",
    "stud2 = SST(input(\"Enter the name of the second student: \"))\n",
    "\n",
    "# Accessing class methods\n",
    "stud1.speak()\n",
    "stud2.speak()\n"
   ]
  },
  {
   "cell_type": "code",
   "execution_count": 61,
   "id": "c18b63d3",
   "metadata": {},
   "outputs": [
    {
     "name": "stdout",
     "output_type": "stream",
     "text": [
      "Rodger details:\n",
      "Rodger is a dog\n",
      "Breed:  Pug\n",
      "Color:  brown\n",
      "\n",
      "Buzo details:\n",
      "Buzo is a dog\n",
      "Breed:  Bulldog\n",
      "Color:  black\n",
      "\n",
      "Accessing class variable using class name\n",
      "dog\n"
     ]
    }
   ],
   "source": [
    "# A Python program to show that the variables with a value\n",
    "# assigned in the class declaration, are class variables and\n",
    "# variables inside methods and constructors are instance\n",
    "# variables.\n",
    "\n",
    "# Class for Dog\n",
    "class Dog():\n",
    "\n",
    "    # Class Variable\n",
    "    animal = 'dog'\n",
    "\n",
    "    # The init method or constructor\n",
    "    def __init__(self, breed, color):    \n",
    "        # Instance Variable\n",
    "        self.breed = breed\n",
    "        self.color = color\n",
    "    \n",
    "# Objects of Dog class\n",
    "Rodger = Dog(\"Pug\", \"brown\")\n",
    "Buzo = Dog(\"Bulldog\", \"black\")\n",
    "\n",
    "print('Rodger details:')\n",
    "print('Rodger is a', Rodger.animal)\n",
    "print('Breed: ', Rodger.breed)\n",
    "print('Color: ', Rodger.color)\n",
    "\n",
    "print('\\nBuzo details:')\n",
    "print('Buzo is a', Buzo.animal)\n",
    "print('Breed: ', Buzo.breed)\n",
    "print('Color: ', Buzo.color)\n",
    "\n",
    "# Class variables can be accessed using class\n",
    "# name also\n",
    "print(\"\\nAccessing class variable using class name\")\n",
    "print(Dog.animal)"
   ]
  },
  {
   "cell_type": "code",
   "execution_count": 62,
   "id": "0d8b3150",
   "metadata": {},
   "outputs": [
    {
     "name": "stdout",
     "output_type": "stream",
     "text": [
      "brown\n"
     ]
    }
   ],
   "source": [
    "# Python program to show that we can create\n",
    "# instance variables inside methods\n",
    "\n",
    "# Class for Dog\n",
    "class Dog():\n",
    "\n",
    "    # Class Variable\n",
    "    animal = 'dog'\n",
    "\n",
    "    # The init method or constructor\n",
    "    def __init__(self, breed):\n",
    "\n",
    "        # Instance Variable\n",
    "        self.breed = breed\n",
    "\n",
    "    # Adds an instance variable\n",
    "    def setColor(self, color):\n",
    "        self.color = color\n",
    "\n",
    "    # Retrieves instance variable\n",
    "    def getColor(self):\n",
    "        return self.color\n",
    "\n",
    "# Object instantiation\n",
    "Rodger = Dog(\"pug\")\n",
    "Rodger.setColor(\"brown\")\n",
    "print(Rodger.getColor())\n"
   ]
  },
  {
   "cell_type": "code",
   "execution_count": null,
   "id": "e0b26fd7",
   "metadata": {},
   "outputs": [],
   "source": []
  }
 ],
 "metadata": {
  "kernelspec": {
   "display_name": "Python 3 (ipykernel)",
   "language": "python",
   "name": "python3"
  },
  "language_info": {
   "codemirror_mode": {
    "name": "ipython",
    "version": 3
   },
   "file_extension": ".py",
   "mimetype": "text/x-python",
   "name": "python",
   "nbconvert_exporter": "python",
   "pygments_lexer": "ipython3",
   "version": "3.10.9"
  }
 },
 "nbformat": 4,
 "nbformat_minor": 5
}
