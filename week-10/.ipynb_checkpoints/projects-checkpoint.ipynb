{
 "cells": [
  {
   "cell_type": "code",
   "execution_count": 7,
   "id": "ee158964",
   "metadata": {},
   "outputs": [
    {
     "name": "stdout",
     "output_type": "stream",
     "text": [
      "Welcome to this application, please input the number of oranges you would like to buy: 11\n",
      "Sorry, the stock quantity is not enough.\n",
      "Welcome to this application, please input the number of oranges you would like to buy: 11\n",
      "Sorry, the stock quantity is not enough.\n",
      "Welcome to this application, please input the number of oranges you would like to buy: 11\n",
      "Sorry, the stock quantity is not enough.\n",
      "Welcome to this application, please input the number of oranges you would like to buy: 10\n",
      "The total price is N1000. Thank you for your patronage!\n"
     ]
    }
   ],
   "source": [
    "class Orange():\n",
    "    def __init__(self, frequency, stock, price):\n",
    "        self.frequency = frequency\n",
    "        self.stock = stock\n",
    "        self.price = price\n",
    "        \n",
    "    def checkstock(self):\n",
    "        if frequency <= self.stock:\n",
    "            global pricef\n",
    "            pricef = frequency * self.price\n",
    "            return True\n",
    "        else:\n",
    "            return False\n",
    "        \n",
    "frequency = int(input(\"Welcome to this application, please input the number of oranges you would like to buy: \"))\n",
    "main = Orange(frequency, 10, 100)\n",
    "main.checkstock()\n",
    "while main.checkstock() == False:\n",
    "    print(\"Sorry, the stock quantity is not enough.\")\n",
    "    frequency = int(input(\"Welcome to this application, please input the number of oranges you would like to buy: \"))\n",
    "    main.checkstock()\n",
    "if main.checkstock() == True:\n",
    "    print(f\"The total price is N{pricef}. Thank you for your patronage!\")"
   ]
  },
  {
   "cell_type": "code",
   "execution_count": null,
   "id": "055c1076",
   "metadata": {},
   "outputs": [],
   "source": []
  },
  {
   "cell_type": "code",
   "execution_count": 1,
   "id": "2689b3d9",
   "metadata": {},
   "outputs": [],
   "source": [
    "import pandas as pd\n",
    "\n",
    "class Brewery():\n",
    "\n",
    "    def __init__(self, records):\n",
    "        self.records = records\n",
    "\n",
    "    def create_file(self):\n",
    "        df = pd.DataFrame(self.records)\n",
    "        df.to_csv('records.csv')\n",
    "\n",
    "records = {'Lager':[\"33 Export\", \"Desperados\", \"Goldberg\", \"Gulder\", \"Heineken\", \"Star\"],\n",
    "           'Stout':[\"Legend\", \"Turbo King\", \"Williams\",\"\",\"\",\"\"],\n",
    "           'Non-Alcoholic':[\"Maltina\", \"Amstel Malta\", \"Malta Gold\", \"Faytouz\", \"\",\"\"]}\n",
    "\n",
    "main = Brewery(records)\n",
    "main.create_file()"
   ]
  },
  {
   "cell_type": "code",
   "execution_count": null,
   "id": "a792269f",
   "metadata": {},
   "outputs": [],
   "source": []
  }
 ],
 "metadata": {
  "kernelspec": {
   "display_name": "Python 3 (ipykernel)",
   "language": "python",
   "name": "python3"
  },
  "language_info": {
   "codemirror_mode": {
    "name": "ipython",
    "version": 3
   },
   "file_extension": ".py",
   "mimetype": "text/x-python",
   "name": "python",
   "nbconvert_exporter": "python",
   "pygments_lexer": "ipython3",
   "version": "3.10.9"
  }
 },
 "nbformat": 4,
 "nbformat_minor": 5
}
