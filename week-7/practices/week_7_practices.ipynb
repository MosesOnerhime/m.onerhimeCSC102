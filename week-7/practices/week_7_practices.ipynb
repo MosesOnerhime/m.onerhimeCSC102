{
 "cells": [
  {
   "cell_type": "code",
   "execution_count": 1,
   "id": "10e3cf08-5bfa-49c9-b583-f0164be5d4ff",
   "metadata": {},
   "outputs": [
    {
     "name": "stdout",
     "output_type": "stream",
     "text": [
      "I'm first call to user defined function!\n",
      "Again second call to the same function\n"
     ]
    }
   ],
   "source": [
    "def printme(str):\n",
    "    #This is a print function\n",
    "    print(str)\n",
    "    return\n",
    "\n",
    "printme(\"I'm first call to user defined function!\")\n",
    "printme(\"Again second call to the same function\")"
   ]
  },
  {
   "cell_type": "code",
   "execution_count": 8,
   "id": "f24cb36a-f989-4126-add4-37f1756a544f",
   "metadata": {},
   "outputs": [
    {
     "name": "stdout",
     "output_type": "stream",
     "text": [
      "Values inside the function:  [10, 20, 30, [1, 2, 3, 4]]\n",
      "Values outside the function:  [10, 20, 30, [1, 2, 3, 4]]\n"
     ]
    }
   ],
   "source": [
    "def changeme(mylist):\n",
    "    #This changes a passed list\n",
    "    mylist.append([1,2,3,4])\n",
    "    print(\"Values inside the function: \", mylist)\n",
    "    return\n",
    "mylist = [10,20,30]\n",
    "changeme(mylist)\n",
    "print(\"Values outside the function: \", mylist)"
   ]
  },
  {
   "cell_type": "code",
   "execution_count": 18,
   "id": "ea6b2588-289e-4931-97bf-e0226ddb1abb",
   "metadata": {},
   "outputs": [
    {
     "name": "stdout",
     "output_type": "stream",
     "text": [
      "Values inside the function:  [1, 2, 3, 4]\n",
      "Values outside the function:  [10, 20, 30]\n"
     ]
    }
   ],
   "source": [
    "def changeme(mylist):\n",
    "    #This changes a passed list\n",
    "    mylist = [1,2,3,4]\n",
    "    print(\"Values inside the function: \", mylist)\n",
    "    return\n",
    "mylist = [10,20,30]\n",
    "changeme(mylist)\n",
    "print(\"Values outside the function: \", mylist)"
   ]
  },
  {
   "cell_type": "code",
   "execution_count": 24,
   "id": "02e4a148-7516-48ab-a7f2-e3f36b05899b",
   "metadata": {},
   "outputs": [
    {
     "name": "stdout",
     "output_type": "stream",
     "text": [
      "<class 'str'>\n"
     ]
    }
   ],
   "source": [
    "def printme(str):\n",
    "    #This prints a passed string\n",
    "    print(str)\n",
    "    return\n",
    "\n",
    "printme(str)"
   ]
  },
  {
   "cell_type": "code",
   "execution_count": 25,
   "id": "1422f1a9-26cf-4bb6-aa3c-f332339a4f4e",
   "metadata": {},
   "outputs": [
    {
     "name": "stdout",
     "output_type": "stream",
     "text": [
      "My string\n"
     ]
    }
   ],
   "source": [
    "def printme(str):\n",
    "    #This prints a passed string\n",
    "    print(str)\n",
    "    return\n",
    "\n",
    "printme(str = \"My string\")"
   ]
  },
  {
   "cell_type": "code",
   "execution_count": 40,
   "id": "8167884a-b2c7-438b-913d-f4f1a6d6bb51",
   "metadata": {},
   "outputs": [
    {
     "name": "stdout",
     "output_type": "stream",
     "text": [
      "Name:  miki\n",
      "Age:  50\n"
     ]
    }
   ],
   "source": [
    "def printinfo(name, age):\n",
    "    #test function\n",
    "    print(\"Name: \", name)\n",
    "    print(\"Age: \", age)\n",
    "    return\n",
    "printinfo(age=50, name=\"miki\")"
   ]
  },
  {
   "cell_type": "code",
   "execution_count": 38,
   "id": "a1316585-f393-44d9-93fc-3abdec13d99a",
   "metadata": {},
   "outputs": [
    {
     "name": "stdout",
     "output_type": "stream",
     "text": [
      "Name:  miki\n",
      "Age:  50\n",
      "Name:  miki\n",
      "Age:  35\n"
     ]
    }
   ],
   "source": [
    "def printinfo(name, age=35):\n",
    "    #test function\n",
    "    print(\"Name: \", name)\n",
    "    print(\"Age: \", age)\n",
    "    return\n",
    "printinfo(age=50, name=\"miki\")\n",
    "printinfo(name='miki')"
   ]
  },
  {
   "cell_type": "code",
   "execution_count": 35,
   "id": "e885f4da-cd35-413e-b501-d7cdadc8a358",
   "metadata": {},
   "outputs": [
    {
     "name": "stdout",
     "output_type": "stream",
     "text": [
      "Output is: \n",
      "10\n",
      "Output is: \n",
      "70\n",
      "60\n"
     ]
    }
   ],
   "source": [
    "def printinfo( arg1, *vartuple ):\n",
    "    #This is test\n",
    "    print(\"Output is: \")\n",
    "    print(arg1)\n",
    "    for var in  vartuple:\n",
    "        print(var)\n",
    "        return\n",
    "printinfo(10)\n",
    "printinfo(70, 60, 50)"
   ]
  },
  {
   "cell_type": "code",
   "execution_count": 44,
   "id": "19e4cd3c-06b0-433b-9756-0b4a249ff09d",
   "metadata": {},
   "outputs": [
    {
     "name": "stdout",
     "output_type": "stream",
     "text": [
      "Inside the function local total:  30\n",
      "Outside the function global total:  50\n"
     ]
    }
   ],
   "source": [
    "total = 50 # This is a global variable\n",
    "def sum(arg1, arg2):\n",
    "    # Add both the parameters\n",
    "    total = arg1 + arg2\n",
    "    print(\"Inside the function local total: \", total)\n",
    "    return total\n",
    "# Now you can call sum function\n",
    "sum(10, 20)\n",
    "print(\"Outside the function global total: \", total)"
   ]
  },
  {
   "cell_type": "code",
   "execution_count": 46,
   "id": "a0bf5a99-fc79-4202-895b-9422be12cad7",
   "metadata": {},
   "outputs": [
    {
     "name": "stdout",
     "output_type": "stream",
     "text": [
      "Lawal Edward Tolu Tina\n",
      "Mary\n"
     ]
    }
   ],
   "source": [
    "def swap(x, y):\n",
    "    global a\n",
    "    a = \"Lawal\"\n",
    "    x,y = y,x\n",
    "    b = \"Chris\"\n",
    "    b = \"Edward\"\n",
    "    c = \"Lola\"\n",
    "    print(a,b,x,y)\n",
    "    a = \"Mary\"\n",
    "    return\n",
    "swap(\"Tina\", \"Tolu\")\n",
    "print(a)"
   ]
  }
 ],
 "metadata": {
  "kernelspec": {
   "display_name": "Python 3 (ipykernel)",
   "language": "python",
   "name": "python3"
  },
  "language_info": {
   "codemirror_mode": {
    "name": "ipython",
    "version": 3
   },
   "file_extension": ".py",
   "mimetype": "text/x-python",
   "name": "python",
   "nbconvert_exporter": "python",
   "pygments_lexer": "ipython3",
   "version": "3.10.9"
  }
 },
 "nbformat": 4,
 "nbformat_minor": 5
}
