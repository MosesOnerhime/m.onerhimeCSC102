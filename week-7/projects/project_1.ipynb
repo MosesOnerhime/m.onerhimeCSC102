{
 "cells": [
  {
   "cell_type": "code",
   "execution_count": 16,
   "id": "c45e292c-ff65-4afc-95bb-db7949426092",
   "metadata": {},
   "outputs": [
    {
     "name": "stdin",
     "output_type": "stream",
     "text": [
      "Input is your surname in capital letters:  ARNIKA\n",
      "Input your first name:  Osose\n",
      "Input your department:  Logistics\n"
     ]
    },
    {
     "name": "stdout",
     "output_type": "stream",
     "text": [
      "Welcome ARNIKA Osose from the Logistics department.\n",
      "Here is the company profile:\n",
      "     S/N           SURNAME     FIRST NAME      DEPARTMENT  Unnamed: 4\n",
      "0    1.0          ADENIRAN  Oluwatamilore       Logistics         NaN\n",
      "1    2.0           ADEWUMI        Ayomide      Accounting         NaN\n",
      "2    3.0       ADOH-AJAGBE          Oshim        Delivery         NaN\n",
      "3    4.0  AGBAKURU- \\NWOGU    Chukwunonye      Accounting         NaN\n",
      "4    5.0         AGBAKWURU     Chiemeziem       Logistics         NaN\n",
      "5    6.0            AKINDE   Oluwatimehin      Accounting         NaN\n",
      "6    7.0            ARNIKA          Osose       Logistics         NaN\n",
      "7    8.0            ATELLY         Daniel        Delivery         NaN\n",
      "8    9.0             AZOGU      Onyekachi        Delivery         NaN\n",
      "9   10.0            BETURE         Shalom        Delivery         NaN\n",
      "10  11.0          CHUKWUMA           Nedi       Logistics         NaN\n",
      "11  12.0               EBI      Stephanie      Accounting         NaN\n",
      "12  13.0            EGBORO          Jason  Administration         NaN\n",
      "13  14.0           EJEDIMU         Edward        Delivery         NaN\n",
      "14  15.0             ELERI            Otu  Administration         NaN\n",
      "15  16.0               EZE     Onyinyechi  Administration         NaN\n",
      "16  17.0           EZEONYE    Makuochukwu       Logistics         NaN\n",
      "17  18.0              GIWA       Moyosore       Logistics         NaN\n",
      "18  19.0              ICHA        Ayonete      Accounting         NaN\n",
      "19  20.0            IKPATI           Eche      Accounting         NaN\n",
      "20  21.0         ILOENYOSI        Michael        Delivery         NaN\n",
      "21  22.0             IYAWE  Oluwadamilola        Delivery         NaN\n",
      "22  23.0           NWOKOLO       Chijindu       Logistics         NaN\n",
      "23  24.0         NWOTOKUBO         Joseph       Logistics         NaN\n",
      "24  25.0          OBASOGIE          Daisy      Accounting         NaN\n",
      "25  26.0              OBI          Samuel      Accounting         NaN\n",
      "26  27.0           OBIALOR          Betha      Accounting         NaN\n",
      "27  28.0           OGBONNA     Boluwatife        Delivery         NaN\n",
      "28  29.0         OIGBOCHIE           Mary        Delivery         NaN\n",
      "29  30.0      OKOCHA-OJEAH        Raphael  Administration         NaN\n",
      "30  31.0             OKOLO         Victor  Administration         NaN\n",
      "31  32.0             OKORO          Derek       Logistics         NaN\n",
      "32  33.0         OLOWOKERE        Akorede      Accounting         NaN\n",
      "33  34.0          OLUBUADE        Rasheed      Accounting         NaN\n",
      "34  35.0           OSEMEKE         Daniel      Accounting         NaN\n",
      "35  36.0             OSSAI   Mary-Cynthia       Logistics         NaN\n",
      "36  37.0             PETER         Owoede       Logistics         NaN\n",
      "37  38.0            QUADRI   Oluwafikunmi        Delivery         NaN\n",
      "38  39.0           UDE-IBE        Uchenna        Delivery         NaN\n",
      "39  40.0              UMEH          Ejike  Administration         NaN\n",
      "40   NaN               NaN            NaN             NaN         NaN\n"
     ]
    }
   ],
   "source": [
    "import pandas as pd\n",
    "\n",
    "def print_dataset():\n",
    "    jt_ventures = pd.read_csv('jt-ventures.csv')\n",
    "    print(jt_ventures)\n",
    "    \n",
    "def employee_verf(sname, fname, department):\n",
    "    # Read the data from the JT Ventures csv file\n",
    "    jt_ventures = pd.read_csv('jt-ventures.csv')\n",
    "    \n",
    "    # Check if the employee exists\n",
    "    employee = jt_ventures[(jt_ventures['SURNAME'] == sname) & (jt_ventures['FIRST NAME'] == fname) & (jt_ventures['DEPARTMENT'] == department)]\n",
    "    \n",
    "    if len(employee) == 1:\n",
    "        # Display company profile\n",
    "        print(f\"Welcome {employee['SURNAME'].values[0]} {employee['FIRST NAME'].values[0]} from the {employee['DEPARTMENT'].values[0]} department.\")\n",
    "        print(\"Here is the company profile:\")\n",
    "        print_dataset()\n",
    "        \n",
    "        \n",
    "    else:\n",
    "        # If employee does not exist(politely)\n",
    "        print(\"Sorry, the mentioned employee does not exist in our records.\")\n",
    "    return\n",
    "        \n",
    "# Get the users inputs and run the function\n",
    "sname = input(\"Input is your surname in capital letters: \")\n",
    "fname = input(\"Input your first name: \")\n",
    "department = input(\"Input your department: \")\n",
    "employee_verf(sname, fname, department)\n"
   ]
  },
  {
   "cell_type": "code",
   "execution_count": null,
   "id": "447921a8-5e1f-461b-8d34-efff82f44f17",
   "metadata": {},
   "outputs": [],
   "source": []
  }
 ],
 "metadata": {
  "kernelspec": {
   "display_name": "Python 3 (ipykernel)",
   "language": "python",
   "name": "python3"
  },
  "language_info": {
   "codemirror_mode": {
    "name": "ipython",
    "version": 3
   },
   "file_extension": ".py",
   "mimetype": "text/x-python",
   "name": "python",
   "nbconvert_exporter": "python",
   "pygments_lexer": "ipython3",
   "version": "3.10.9"
  }
 },
 "nbformat": 4,
 "nbformat_minor": 5
}
