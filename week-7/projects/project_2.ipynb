{
 "cells": [
  {
   "cell_type": "code",
   "execution_count": 3,
   "id": "e7e40034-cfcc-4758-b678-a0e6e3338e9f",
   "metadata": {},
   "outputs": [
    {
     "name": "stdout",
     "output_type": "stream",
     "text": [
      "Yega Services\n",
      "\n",
      "Locations: \n",
      "1. Ibeju-Lekki community \n",
      "2. Epe\n"
     ]
    },
    {
     "name": "stdin",
     "output_type": "stream",
     "text": [
      "\n",
      "Input the location for the delivery of your package please(1 or 2):  2\n",
      "\n",
      "Input the weight of the package(In in kg):  54\n"
     ]
    },
    {
     "name": "stdout",
     "output_type": "stream",
     "text": [
      "\n",
      "The price to deliver a package weighing 54kg to Epe is N5,000. Thank you.\n"
     ]
    }
   ],
   "source": [
    "# Create a function that determines the price to be paid\n",
    "def total_price(location, weight):\n",
    "    if location == '1':\n",
    "        loc = 'Ibeju-Lekki community'\n",
    "        if weight >= 10:\n",
    "            price = 'N2,000'\n",
    "        elif weight < 10:\n",
    "            price = 'N1,500'\n",
    "        print(f\"\\nThe price to deliver a package weighing {weight}kg to {loc} is {price}. Thank you.\")\n",
    "            \n",
    "    elif location == '2':\n",
    "        loc = 'Epe'\n",
    "        if weight >= 10:\n",
    "            price = 'N5,000'\n",
    "        elif weight < 10:\n",
    "            price = 'N4,000'\n",
    "        print(f\"\\nThe price to deliver a package weighing {weight}kg to {loc} is {price}. Thank you.\")\n",
    "            \n",
    "    else:\n",
    "        print(\"\\nSorry, the location you gave is not valid.\")\n",
    "            \n",
    "    \n",
    "    return\n",
    "\n",
    "print(\"Yega Services\")\n",
    "print(\"\\nLocations: \\n1. Ibeju-Lekki community \\n2. Epe\")\n",
    "location = input(\"\\nInput the location for the delivery of your package please(1 or 2): \")\n",
    "weight = int(input(\"\\nInput the weight of the package(In in kg): \"))\n",
    "\n",
    "total_price(location, weight)\n",
    "        "
   ]
  },
  {
   "cell_type": "code",
   "execution_count": null,
   "id": "bc3446ca-ee18-4b1d-b467-a0feb9f57bc0",
   "metadata": {},
   "outputs": [],
   "source": []
  }
 ],
 "metadata": {
  "kernelspec": {
   "display_name": "Python 3 (ipykernel)",
   "language": "python",
   "name": "python3"
  },
  "language_info": {
   "codemirror_mode": {
    "name": "ipython",
    "version": 3
   },
   "file_extension": ".py",
   "mimetype": "text/x-python",
   "name": "python",
   "nbconvert_exporter": "python",
   "pygments_lexer": "ipython3",
   "version": "3.10.9"
  }
 },
 "nbformat": 4,
 "nbformat_minor": 5
}
