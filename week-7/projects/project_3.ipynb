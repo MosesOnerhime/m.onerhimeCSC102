{
 "cells": [
  {
   "cell_type": "code",
   "execution_count": 15,
   "id": "bee22878-35ed-428c-aec6-b3acd4dd1ec1",
   "metadata": {},
   "outputs": [
    {
     "name": "stdin",
     "output_type": "stream",
     "text": [
      "Input the number for candidates:  2\n",
      "Which department would you like?(choose 1 or 2)\n",
      "1. Computer Science\n",
      "2. Mass Communication 1\n",
      "Good day, please input you fullname(surname first):  ogog ogg\n",
      "\n",
      "Input your jamb score:  400\n"
     ]
    },
    {
     "name": "stdout",
     "output_type": "stream",
     "text": [
      "\n",
      "Note: 1,2,3,4,5 represents the grades A,B,C,D,F\n"
     ]
    },
    {
     "name": "stdin",
     "output_type": "stream",
     "text": [
      "Input you Maths grade(from 1 to 5):  1\n",
      "Input you English grade(from 1 to 5):  1\n",
      "Input you Physics grade(from 1 to 5):  1\n",
      "Input you Chemistry grade(from 1 to 5):  1\n",
      "Input you Geography/Economics/Biology/Further maths grade(from 1 to 5):  1\n",
      "Input your interview score:  75\n",
      "Good day, please input you fullname(surname first):  ogokkkkk kkkk\n",
      "\n",
      "Input your jamb score:  300\n"
     ]
    },
    {
     "name": "stdout",
     "output_type": "stream",
     "text": [
      "\n",
      "Note: 1,2,3,4,5 represents the grades A,B,C,D,F\n"
     ]
    },
    {
     "name": "stdin",
     "output_type": "stream",
     "text": [
      "Input you Maths grade(from 1 to 5):  1\n",
      "Input you English grade(from 1 to 5):  1\n",
      "Input you Physics grade(from 1 to 5):  1\n",
      "Input you Chemistry grade(from 1 to 5):  1\n",
      "Input you Geography/Economics/Biology/Further maths grade(from 1 to 5):  1\n",
      "Input your interview score:  76\n"
     ]
    }
   ],
   "source": [
    "import pandas as pd\n",
    "\n",
    "def comp_science(jambf, waecf, interviewf):\n",
    "    global jamb\n",
    "    global waec\n",
    "    global interview\n",
    "    \n",
    "    jamb = int(input(\"\\nInput your jamb score: \"))\n",
    "    if 220 <= jamb <= 400:\n",
    "        jambf = True\n",
    "    else:\n",
    "        jamdf = False\n",
    "    print(\"\\nNote: 1,2,3,4,5 represents the grades A,B,C,D,F\")\n",
    "    sub1 = int(input(\"Input you Maths grade(from 1 to 5): \"))\n",
    "    sub2 = int(input(\"Input you English grade(from 1 to 5): \"))\n",
    "    sub3 = int(input(\"Input you Physics grade(from 1 to 5): \"))\n",
    "    sub4 = int(input(\"Input you Chemistry grade(from 1 to 5): \"))\n",
    "    sub5 = int(input(\"Input you Geography/Economics/Biology/Further maths grade(from 1 to 5): \"))\n",
    "    \n",
    "    if (sub1 & sub2 & sub3 & sub4 & sub5) <= 3:\n",
    "        waecf = True\n",
    "    else:\n",
    "        waecf = False\n",
    "    \n",
    "    interview = int(input(\"Input your interview score: \"))\n",
    "    if 70 <= interview <= 100:\n",
    "        interviewf = True\n",
    "    else:\n",
    "        interviewf = False\n",
    "        \n",
    "    if (jambf == True) & (waecf == True) & (interviewf == True):        \n",
    "        admitted = {\"Name\": [name], \"Status\": [\"ADMITTED\"]}\n",
    "        global df\n",
    "        df = pd.DataFrame(admitted)\n",
    "    else:\n",
    "        not_admitted = {\"Name\": [name], \"Status\": [\"NOT ADMITTED\"]}\n",
    "                        \n",
    "        df = pd.DataFrame(not_admitted)\n",
    "        df.to_csv('not-admitted.csv')\n",
    "\n",
    "                        \n",
    "#def mass_com(jambf, waecf, interviewf):\n",
    "\n",
    "candidates = int(input(\"Input the number for candidates: \"))\n",
    "department = input(\"Which department would you like?(choose 1 or 2)\\n1. Computer Science\\n2. Mass Communication\")\n",
    "if department == \"1\":\n",
    "    for i in range(candidates):\n",
    "        global name\n",
    "        name = input(\"Good day, please input you fullname(surname first): \")\n",
    "        comp_science(jambf = False, waecf = False, interviewf = False)\n",
    "elif department == \"2\":\n",
    "    mass_com(jambf, waecf, interviewf)\n",
    "\n",
    "df.to_csv('admitted.csv')\n"
   ]
  },
  {
   "cell_type": "code",
   "execution_count": null,
   "id": "216b0fe5-d060-4add-9385-7d6e5078a928",
   "metadata": {},
   "outputs": [],
   "source": []
  }
 ],
 "metadata": {
  "kernelspec": {
   "display_name": "Python 3 (ipykernel)",
   "language": "python",
   "name": "python3"
  },
  "language_info": {
   "codemirror_mode": {
    "name": "ipython",
    "version": 3
   },
   "file_extension": ".py",
   "mimetype": "text/x-python",
   "name": "python",
   "nbconvert_exporter": "python",
   "pygments_lexer": "ipython3",
   "version": "3.10.9"
  }
 },
 "nbformat": 4,
 "nbformat_minor": 5
}
