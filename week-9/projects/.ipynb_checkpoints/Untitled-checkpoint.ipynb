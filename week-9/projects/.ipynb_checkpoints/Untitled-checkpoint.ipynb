{
 "cells": [
  {
   "cell_type": "code",
   "execution_count": 7,
   "id": "1896741f",
   "metadata": {},
   "outputs": [
    {
     "name": "stdout",
     "output_type": "stream",
     "text": [
      "Please input your first name only: Noel\n",
      "Please input your division: Commercial Banking\n",
      "Your services are: Lines of credit, Investment management and accounts, Insurance, Advisory services.\n"
     ]
    }
   ],
   "source": [
    "class Zenith():\n",
    "    u_services = ['Retirement and education accounts', 'loans and mortgagges', 'Checking and saving', \\\n",
    "                     'Multi-currency management services and products', 'Foreign currency accounts', 'Foreign currency credit cards', \\\n",
    "                      'Transborder advisory services', 'Liquidity management', 'Advisory services']\n",
    "    m_services = ['Lines of credit', 'Investment management and accounts', 'Insurance']\n",
    "    \n",
    "    def __init__(self, name):\n",
    "        self.name = name\n",
    "        \n",
    "    def checkemployee(self):\n",
    "        if name in name_records:\n",
    "            return True\n",
    "        else:\n",
    "            return False\n",
    "                \n",
    "    \n",
    "    def unique_services(self):\n",
    "        global u_services\n",
    "        u_services = ['Retirement and education accounts', 'loans and mortgagges', 'Checking and saving', \\\n",
    "                     'Multi-currency management services and products', 'Foreign currency accounts', 'Foreign currency credit cards', \\\n",
    "                      'Transborder advisory services', 'Liquidity management', 'Advisory services']\n",
    "        \n",
    "    def mutual_services(self):\n",
    "        global m_services\n",
    "        m_services = ['Lines of credit', 'Investment management and accounts', 'Insurance']\n",
    "        \n",
    "class Retail_banking(Zenith):\n",
    "    def __init__(self, name):\n",
    "        Zenith.__init__(self, name)\n",
    "    \n",
    "    def service(self):\n",
    "        # print the range of values in the list without the square brackets\n",
    "        services1 = ', '.join(str(x) for x in self.m_services[0:])\n",
    "        services2 = ', '.join(str(x) for x in self.u_services[0:3])\n",
    "        print(f\"Your services are: {services1}, {services2}.\")\n",
    "    \n",
    "class Global_banking(Zenith):\n",
    "    def __init__(self, name):\n",
    "        Zenith.__init__(self, name)\n",
    "    \n",
    "    def service(self):\n",
    "        services = ', '.join(str(x) for x in self.u_services[3:8])\n",
    "        print(f\"Your services are: {services}.\")\n",
    "    \n",
    "class Commercial_banking(Zenith):\n",
    "    def __init__(self, name):\n",
    "        Zenith.__init__(self, name)\n",
    "    \n",
    "    def service(self):\n",
    "        services1 = ', '.join(str(x) for x in self.m_services[0:])\n",
    "        services2 = self.u_services[8]\n",
    "        print(f\"Your services are: {services1}, {services2}.\")\n",
    "        \n",
    "name = input(\"Please input your first name only: \")\n",
    "\n",
    "\n",
    "name_records = ['Mary', 'Agatha', 'Noel']\n",
    "\n",
    "obj_retail = Retail_banking(name)\n",
    "obj_global = Global_banking(name)\n",
    "obj_commercial = Commercial_banking(name)\n",
    "obj_retail.checkemployee()\n",
    "\n",
    "if obj_retail.checkemployee() == True:\n",
    "    division = input(\"Please input your division: \")\n",
    "    division_records = ['Retail Banking', 'Global Banking', 'Commercial Banking']\n",
    "    if (name == name_records[0]) and (division == division_records[0]):        \n",
    "        obj_retail.service()\n",
    "    elif (name == name_records[1]) and (division == division_records[1]):\n",
    "        obj_global.service()\n",
    "    elif (name == name_records[2]) and (division == division_records[2]):\n",
    "        obj_commercial.service()\n",
    "    else:\n",
    "        print(\"Sorry, your name does not correlate with your division.\")\n",
    "else:\n",
    "    print(\"Sorry, your name does not exist in our records.\")"
   ]
  },
  {
   "cell_type": "raw",
   "id": "6db79428",
   "metadata": {},
   "source": []
  }
 ],
 "metadata": {
  "kernelspec": {
   "display_name": "Python 3 (ipykernel)",
   "language": "python",
   "name": "python3"
  },
  "language_info": {
   "codemirror_mode": {
    "name": "ipython",
    "version": 3
   },
   "file_extension": ".py",
   "mimetype": "text/x-python",
   "name": "python",
   "nbconvert_exporter": "python",
   "pygments_lexer": "ipython3",
   "version": "3.10.9"
  }
 },
 "nbformat": 4,
 "nbformat_minor": 5
}
