{
 "cells": [
  {
   "cell_type": "code",
   "execution_count": 4,
   "id": "5af64a0f",
   "metadata": {},
   "outputs": [
    {
     "name": "stdout",
     "output_type": "stream",
     "text": [
      "April Apakama False\n",
      "Chidum Umeh True\n"
     ]
    }
   ],
   "source": [
    "class Person(object):\n",
    "\n",
    "    # Constructor\n",
    "    def __init__(self, name):\n",
    "        self.name = name\n",
    "\n",
    "    # To get name method\n",
    "    def getname(self):\n",
    "        return self.name\n",
    "\n",
    "    # To check if this person is an employee\n",
    "    def isEmployee(self):\n",
    "        return False\n",
    "    \n",
    "\n",
    "# Inherited or Subclass (Note Person in bracket)\n",
    "class Employee(Person):\n",
    "\n",
    "    # Here employee method returns true\n",
    "    def isEmployee(self):\n",
    "        return True\n",
    "\n",
    "# Object Instantiation\n",
    "emp = Person(\"April Apakama\") # An Object of Person\n",
    "print(emp.getname(), emp.isEmployee())\n",
    "\n",
    "emp = Employee(\"Chidum Umeh\") # An Object of Employee\n",
    "print(emp.getname(), emp.isEmployee())\n"
   ]
  },
  {
   "cell_type": "code",
   "execution_count": 6,
   "id": "4b2e39fc",
   "metadata": {},
   "outputs": [
    {
     "name": "stdout",
     "output_type": "stream",
     "text": [
      "Name: Basit Inaolaji\n",
      "ID No.: 886012\n",
      "Salary: 200000\n"
     ]
    }
   ],
   "source": [
    "# Python code to demonstrate how parent constructors\n",
    "# are called.\n",
    "\n",
    "# parent class\n",
    "class Person(object):\n",
    "\n",
    "        # __init__ is known as the constructor\n",
    "        def __init__(self, name, idnumber):\n",
    "            self.name = name\n",
    "            self.idnumber = idnumber\n",
    "            \n",
    "        def display(self):\n",
    "            print(\"Name:\", self.name)\n",
    "            print(\"ID No.:\", self.idnumber)\n",
    "            print(\"Salary:\", self.salary)\n",
    "\n",
    "# child class\n",
    "class Employee(Person):\n",
    "    def __init__(self, name, idnumber, salary, post):\n",
    "        self.salary = salary\n",
    "        self.post = post\n",
    "\n",
    "        # invoking the __init__ of the parent class\n",
    "        Person.__init__(self, name, idnumber)\n",
    "\n",
    "                \n",
    "# creation of an object variable or an instance\n",
    "a = Employee('Basit Inaolaji', 886012, 200000, \"Intern\")\n",
    "\n",
    "# calling a function of the class Person using its instance\n",
    "a.display()\n"
   ]
  },
  {
   "cell_type": "code",
   "execution_count": 15,
   "id": "62656602",
   "metadata": {},
   "outputs": [
    {
     "name": "stdout",
     "output_type": "stream",
     "text": [
      "Ehi Elijah\n"
     ]
    }
   ],
   "source": [
    "# Python program to demonstrate error if we\n",
    "# forget to invoke __init__() of the parent.\n",
    "\n",
    "class A:\n",
    "    def __init__(self, name = 'Ehi Elijah'):\n",
    "        self.name = name\n",
    "        \n",
    "class B(A):\n",
    "    def __init__(self, roll, name):\n",
    "        self.roll = roll\n",
    "        \n",
    "        A.__init__(self, name)\n",
    "\n",
    "# Object Instance\n",
    "object = B(23, \"Ehi Elijah\")\n",
    "print (object.name)\n"
   ]
  },
  {
   "cell_type": "code",
   "execution_count": 18,
   "id": "e6a03ae4",
   "metadata": {},
   "outputs": [
    {
     "name": "stdout",
     "output_type": "stream",
     "text": [
      "This function is in parent class.\n",
      "This function is in child class.\n"
     ]
    }
   ],
   "source": [
    "# Python program to demonstrate\n",
    "# single inheritance\n",
    "\n",
    "\n",
    "# Base class\n",
    "class Parent: \n",
    "    def func1(self):\n",
    "        print(\"This function is in parent class.\")\n",
    "\n",
    "# Derived class\n",
    "class Child(Parent):\n",
    "    def func2(self):\n",
    "        print(\"This function is in child class.\")\n",
    "\n",
    "# Object Instance\n",
    "object = Child()\n",
    "object.func1()\n",
    "object.func2()\n"
   ]
  },
  {
   "cell_type": "code",
   "execution_count": 20,
   "id": "71b7f8f6",
   "metadata": {},
   "outputs": [
    {
     "name": "stdout",
     "output_type": "stream",
     "text": [
      "Father : Paul Abiodun\n",
      "Mother : Caroline Aina\n"
     ]
    }
   ],
   "source": [
    "# Python program to demonstrate\n",
    "# multiple inheritance\n",
    "\n",
    "\n",
    "# Base class1\n",
    "class Mother: \n",
    "    mothername = \"Caroline Aina\"\n",
    "    def mother(self):\n",
    "        print(self.mothername)\n",
    "\n",
    "# Base class2\n",
    "class Father:\n",
    "    fathername = \"Paul Abiodun\"\n",
    "    def father(self):\n",
    "        print(self.fathername)\n",
    "\n",
    "# Derived class\n",
    "class Son(Mother, Father):\n",
    "    def parents(self):\n",
    "        print(\"Father :\", self.fathername)\n",
    "        print(\"Mother :\", self.mothername)\n",
    "\n",
    "# Object Instance\n",
    "s1 = Son()\n",
    "s1.parents()\n"
   ]
  },
  {
   "cell_type": "code",
   "execution_count": 24,
   "id": "8c67f4d1",
   "metadata": {},
   "outputs": [
    {
     "ename": "TypeError",
     "evalue": "object.__init__() takes exactly one argument (the instance to initialize)",
     "output_type": "error",
     "traceback": [
      "\u001b[1;31m---------------------------------------------------------------------------\u001b[0m",
      "\u001b[1;31mTypeError\u001b[0m                                 Traceback (most recent call last)",
      "Cell \u001b[1;32mIn[24], line 32\u001b[0m\n\u001b[0;32m     29\u001b[0m         \u001b[38;5;28mprint\u001b[39m(\u001b[38;5;124m\"\u001b[39m\u001b[38;5;124mSon name :\u001b[39m\u001b[38;5;124m\"\u001b[39m, \u001b[38;5;28mself\u001b[39m\u001b[38;5;241m.\u001b[39msonname)\n\u001b[0;32m     31\u001b[0m \u001b[38;5;66;03m# Object Instance\u001b[39;00m\n\u001b[1;32m---> 32\u001b[0m s1 \u001b[38;5;241m=\u001b[39m \u001b[43mSon\u001b[49m\u001b[43m(\u001b[49m\u001b[38;5;124;43m'\u001b[39;49m\u001b[38;5;124;43mGbenga\u001b[39;49m\u001b[38;5;124;43m'\u001b[39;49m\u001b[43m,\u001b[49m\u001b[43m \u001b[49m\u001b[38;5;124;43m'\u001b[39;49m\u001b[38;5;124;43mAbiodun\u001b[39;49m\u001b[38;5;124;43m'\u001b[39;49m\u001b[43m,\u001b[49m\u001b[43m \u001b[49m\u001b[38;5;124;43m'\u001b[39;49m\u001b[38;5;124;43mOluwafemi\u001b[39;49m\u001b[38;5;124;43m'\u001b[39;49m\u001b[43m)\u001b[49m\n\u001b[0;32m     33\u001b[0m \u001b[38;5;28mprint\u001b[39m(s1\u001b[38;5;241m.\u001b[39mgrandfathername)\n\u001b[0;32m     34\u001b[0m s1\u001b[38;5;241m.\u001b[39mprint_name()\n",
      "Cell \u001b[1;32mIn[24], line 24\u001b[0m, in \u001b[0;36mSon.__init__\u001b[1;34m(self, sonname, fathername, grandfathername)\u001b[0m\n\u001b[0;32m     21\u001b[0m \u001b[38;5;28mself\u001b[39m\u001b[38;5;241m.\u001b[39msonname \u001b[38;5;241m=\u001b[39m sonname\n\u001b[0;32m     23\u001b[0m \u001b[38;5;66;03m# invoking constructor of Father class\u001b[39;00m\n\u001b[1;32m---> 24\u001b[0m \u001b[43mFather\u001b[49m\u001b[38;5;241;43m.\u001b[39;49m\u001b[38;5;21;43m__init__\u001b[39;49m\u001b[43m(\u001b[49m\u001b[38;5;28;43mself\u001b[39;49m\u001b[43m,\u001b[49m\u001b[43m \u001b[49m\u001b[43mfathername\u001b[49m\u001b[43m,\u001b[49m\u001b[43m \u001b[49m\u001b[43mgrandfathername\u001b[49m\u001b[43m)\u001b[49m\n",
      "Cell \u001b[1;32mIn[24], line 16\u001b[0m, in \u001b[0;36mFather.__init__\u001b[1;34m(self, fathername, grandfathername)\u001b[0m\n\u001b[0;32m     13\u001b[0m \u001b[38;5;28mself\u001b[39m\u001b[38;5;241m.\u001b[39mfathername \u001b[38;5;241m=\u001b[39m fathername\n\u001b[0;32m     15\u001b[0m \u001b[38;5;66;03m# invoking constructor of Grandfather class\u001b[39;00m\n\u001b[1;32m---> 16\u001b[0m \u001b[43mGrandfather\u001b[49m\u001b[38;5;241;43m.\u001b[39;49m\u001b[38;5;21;43m__init__\u001b[39;49m\u001b[43m(\u001b[49m\u001b[38;5;28;43mself\u001b[39;49m\u001b[43m,\u001b[49m\u001b[43m \u001b[49m\u001b[43mgrandfathername\u001b[49m\u001b[43m)\u001b[49m\n",
      "\u001b[1;31mTypeError\u001b[0m: object.__init__() takes exactly one argument (the instance to initialize)"
     ]
    }
   ],
   "source": [
    "# Python program to demonstrate\n",
    "# multilevel inheritance\n",
    "\n",
    "# Base class\n",
    "class Grandfather:\n",
    "\n",
    "    def __init(self, grandfathername):\n",
    "        self.grandfathername = grandfathername\n",
    "\n",
    "# Intermediate class\n",
    "class Father(Grandfather):\n",
    "    def __init__(self, fathername, grandfathername):\n",
    "        self.fathername = fathername\n",
    "\n",
    "        # invoking constructor of Grandfather class\n",
    "        Grandfather.__init__(self, grandfathername)\n",
    "\n",
    "# Derived class\n",
    "class Son(Father):\n",
    "    def __init__(self, sonname, fathername, grandfathername):\n",
    "        self.sonname = sonname\n",
    "\n",
    "        # invoking constructor of Father class\n",
    "        Father.__init__(self, fathername, grandfathername)\n",
    "\n",
    "    def print_name(self):\n",
    "        print('Grandfather name :', self.grandfathername)\n",
    "        print(\"Father name :\", self.fathername)\n",
    "        print(\"Son name :\", self.sonname)\n",
    "\n",
    "# Object Instance\n",
    "s1 = Son('Gbenga', 'Abiodun', 'Oluwafemi')\n",
    "print(s1.grandfathername)\n",
    "s1.print_name()\n"
   ]
  },
  {
   "cell_type": "code",
   "execution_count": 25,
   "id": "3c7885aa",
   "metadata": {},
   "outputs": [
    {
     "name": "stdout",
     "output_type": "stream",
     "text": [
      "This function is in parent class.\n",
      "This function is in child 1.\n",
      "This function is in parent class.\n",
      "This function is in child 2.\n"
     ]
    }
   ],
   "source": [
    "# Python program to demonstrate\n",
    "# Hierarchical inheritance\n",
    "\n",
    "\n",
    "# Base class\n",
    "class Parent:\n",
    "    def func1(self):\n",
    "        print(\"This function is in parent class.\")\n",
    "\n",
    "# Derived class1\n",
    "class Child1(Parents):\n",
    "    def func2(self):\n",
    "        print(\"This function is in child 1.\")\n",
    "\n",
    "# Derivied class2\n",
    "class Child2(Parents):\n",
    "    def func3(self):\n",
    "        print(\"This function is in child 2.\")\n",
    "\n",
    "# Object Instantiation\n",
    "object1 = Child1()\n",
    "object2 = Child2()\n",
    "object1.func1()\n",
    "object1.func2()\n",
    "object2.func1()\n",
    "object2.func3()\n"
   ]
  },
  {
   "cell_type": "code",
   "execution_count": 27,
   "id": "60751496",
   "metadata": {},
   "outputs": [
    {
     "name": "stdout",
     "output_type": "stream",
     "text": [
      "This function is in school.\n",
      "This function is in student 1. \n"
     ]
    }
   ],
   "source": [
    "# Python program to demonstrate\n",
    "# hybrid inheritance\n",
    "\n",
    "\n",
    "class School():\n",
    "    def func1(self):\n",
    "        print(\"This function is in school.\")\n",
    "\n",
    "class Student1(School):\n",
    "    def func2(self):\n",
    "        print(\"This function is in student 1. \")\n",
    "\n",
    "class Student2(School):\n",
    "    def func3(self):\n",
    "        print(\"This function is in student 2.\")\n",
    "\n",
    "class Student3(Student1, School):\n",
    "    def func4(self):\n",
    "        print(\"This function is in student 3.\")\n",
    "\n",
    "# Object Instantiation\n",
    "object = Student3()\n",
    "object.func1()\n",
    "object.func2()\n"
   ]
  },
  {
   "cell_type": "code",
   "execution_count": 29,
   "id": "eb2b9487",
   "metadata": {},
   "outputs": [
    {
     "name": "stdout",
     "output_type": "stream",
     "text": [
      "30 20\n",
      "7\n"
     ]
    }
   ],
   "source": [
    "# Python program to demonstrate in-built polymorphic functions\n",
    "\n",
    "# len() being used for a string\n",
    "print(len(\"Department of Computer Science\"), 20)\n",
    "\n",
    "# len() being used for a list\n",
    "print(len([10, 20, 30, 40, 50, 60, 70]))\n"
   ]
  },
  {
   "cell_type": "code",
   "execution_count": 30,
   "id": "1b39997d",
   "metadata": {},
   "outputs": [
    {
     "name": "stdout",
     "output_type": "stream",
     "text": [
      "5\n",
      "9\n",
      "10\n"
     ]
    }
   ],
   "source": [
    "# A simple Python function to demonstrate\n",
    "# Polymorphism\n",
    "\n",
    "def add(x, y, z = 0, w = 4): \n",
    "    return x + y + z \n",
    "\n",
    "# Driver code\n",
    "print(add(2, 3))\n",
    "print(add(2, 3, 4))\n",
    "print(add(2, 3, 5, 6))\n"
   ]
  },
  {
   "cell_type": "code",
   "execution_count": 33,
   "id": "77bc60da",
   "metadata": {},
   "outputs": [
    {
     "name": "stdout",
     "output_type": "stream",
     "text": [
      "Lagos is the capital of Nigeria.\n",
      "English is the official language of Nigeria.\n",
      "Nigeria is the giant of Africa.\n",
      "Lome is the capital of Togo.\n",
      "French is the primary language of Togo.\n",
      "Togo is known for its palm-lined beaches and hilltop villages.\n"
     ]
    }
   ],
   "source": [
    "class Nigeria():\n",
    "    def capital(self):\n",
    "        print(\"Lagos is the capital of Nigeria.\")\n",
    "\n",
    "    def language(self):\n",
    "        print(\"English is the official language of Nigeria.\")\n",
    "\n",
    "    def type(self):\n",
    "        print(\"Nigeria is the giant of Africa.\")\n",
    "\n",
    "class Togo():\n",
    "    def capital(self):\n",
    "        print(\"Lome is the capital of Togo.\")\n",
    "\n",
    "    def language(self):\n",
    "        print(\"French is the primary language of Togo.\")\n",
    "\n",
    "    def type(self):\n",
    "        print(\"Togo is known for its palm-lined beaches and hilltop villages.\")\n",
    "\n",
    "obj_naija = Nigeria()\n",
    "obj_togo = Togo()\n",
    "for country in (obj_naija, obj_togo):\n",
    "    country.capital()\n",
    "    country.language()\n",
    "    country.type()\n"
   ]
  },
  {
   "cell_type": "code",
   "execution_count": 37,
   "id": "4e0038e4",
   "metadata": {},
   "outputs": [
    {
     "name": "stdout",
     "output_type": "stream",
     "text": [
      "There are many types of birds.\n",
      "Most of the birds can fly but some cannot.\n",
      "There are many types of birds.\n",
      "Sparrows can fly.\n",
      "There are many types of birds.\n",
      "Ostriches cannot fly.\n"
     ]
    }
   ],
   "source": [
    "class Bird:\n",
    "    def intro(self):\n",
    "        print(\"There are many types of birds.\")\n",
    "\n",
    "    def flight(self):\n",
    "        print(\"Most of the birds can fly but some cannot.\")\n",
    "\n",
    "class Sparrow(Bird):\n",
    "    def flight(self):\n",
    "        print(\"Sparrows can fly.\")\n",
    "\n",
    "class Ostrich(Bird):\n",
    "    def flight(selfie):\n",
    "        print(\"Ostriches cannot fly.\")\n",
    "\n",
    "obj_bird = Bird()\n",
    "obj_spr = Sparrow()\n",
    "obj_ost = Ostrich()\n",
    "\n",
    "obj_bird.intro()\n",
    "obj_bird.flight()\n",
    "\n",
    "obj_spr.intro()\n",
    "obj_spr.flight()\n",
    "\n",
    "obj_ost.intro()\n",
    "obj_ost.flight()\n"
   ]
  },
  {
   "cell_type": "code",
   "execution_count": null,
   "id": "4632acc0",
   "metadata": {},
   "outputs": [],
   "source": []
  }
 ],
 "metadata": {
  "kernelspec": {
   "display_name": "Python 3 (ipykernel)",
   "language": "python",
   "name": "python3"
  },
  "language_info": {
   "codemirror_mode": {
    "name": "ipython",
    "version": 3
   },
   "file_extension": ".py",
   "mimetype": "text/x-python",
   "name": "python",
   "nbconvert_exporter": "python",
   "pygments_lexer": "ipython3",
   "version": "3.10.9"
  }
 },
 "nbformat": 4,
 "nbformat_minor": 5
}
