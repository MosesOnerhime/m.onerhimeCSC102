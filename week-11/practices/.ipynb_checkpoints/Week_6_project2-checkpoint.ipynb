{
 "cells": [
  {
   "cell_type": "code",
   "execution_count": 4,
   "id": "2891e64c-9788-4f3d-9ea8-b77c9fe1fcaf",
   "metadata": {},
   "outputs": [],
   "source": [
    "# importing pandas as pd\n",
    "import pandas as pd\n",
    "   \n",
    "# dictionary of lists\n",
    "records = {\n",
    "    'Export': ['Bournvita', 'Hot Chocolate', 'Tom Tom', 'Buttermint', 'Cocoa butter', 'Cocoa cake', 'Cocoa liquor', 'Cocoa powder'],\n",
    "    'Segment': ['Refreshment Beverages', 'Refreshment Beverages', 'Confectionery', 'Confectionery', 'Intermediate Cocoa Products', 'Intermediate Cocoa Products', 'Intermediate Cocoa Products', 'Intermediate Cocoa Products'],\n",
    "    'Brand': ['CADBURY BOURNVITA', 'CADBURY 3-in-1 HOT CHOCOLATE', 'TOMTOM CLASSIC, TOMTOM STRAWBERRY', 'BUTTERMINT', 'COCOA BUTTER', 'COCOA CAKE', 'COCOA LIQUOR', 'COCOA POWDER'],\n",
    "}\n",
    "  \n",
    "# creating a dataframe from a dictionary \n",
    "df = pd.DataFrame(records)\n",
    "\n",
    "# saving the dataframe\n",
    "df.to_csv('cadbury_market.csv', index=False)"
   ]
  },
  {
   "cell_type": "code",
   "execution_count": null,
   "id": "dcf491e2-3866-4bc7-87e7-39730b889157",
   "metadata": {},
   "outputs": [],
   "source": []
  }
 ],
 "metadata": {
  "kernelspec": {
   "display_name": "Python 3 (ipykernel)",
   "language": "python",
   "name": "python3"
  },
  "language_info": {
   "codemirror_mode": {
    "name": "ipython",
    "version": 3
   },
   "file_extension": ".py",
   "mimetype": "text/x-python",
   "name": "python",
   "nbconvert_exporter": "python",
   "pygments_lexer": "ipython3",
   "version": "3.10.9"
  }
 },
 "nbformat": 4,
 "nbformat_minor": 5
}
