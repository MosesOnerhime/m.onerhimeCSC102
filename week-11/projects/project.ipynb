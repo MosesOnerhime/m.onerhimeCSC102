{
 "cells": [
  {
   "cell_type": "code",
   "execution_count": 2,
   "id": "2e2b53ea",
   "metadata": {},
   "outputs": [
    {
     "name": "stderr",
     "output_type": "stream",
     "text": [
      "C:\\Users\\HP\\AppData\\Local\\Temp\\ipykernel_12424\\232067050.py:26: FutureWarning: The frame.append method is deprecated and will be removed from pandas in a future version. Use pandas.concat instead.\n",
      "  pirates_df = pirates_df.append({'MatNo': matno, 'Name': name, 'Age': age, 'Grade': grade}, ignore_index=True)\n",
      "C:\\Users\\HP\\AppData\\Local\\Temp\\ipykernel_12424\\232067050.py:30: FutureWarning: The frame.append method is deprecated and will be removed from pandas in a future version. Use pandas.concat instead.\n",
      "  bulls_df = bulls_df.append({'MatNo': matno, 'Name': name, 'Age': age, 'Grade': grade}, ignore_index=True)\n",
      "C:\\Users\\HP\\AppData\\Local\\Temp\\ipykernel_12424\\232067050.py:26: FutureWarning: The frame.append method is deprecated and will be removed from pandas in a future version. Use pandas.concat instead.\n",
      "  pirates_df = pirates_df.append({'MatNo': matno, 'Name': name, 'Age': age, 'Grade': grade}, ignore_index=True)\n",
      "C:\\Users\\HP\\AppData\\Local\\Temp\\ipykernel_12424\\232067050.py:30: FutureWarning: The frame.append method is deprecated and will be removed from pandas in a future version. Use pandas.concat instead.\n",
      "  bulls_df = bulls_df.append({'MatNo': matno, 'Name': name, 'Age': age, 'Grade': grade}, ignore_index=True)\n",
      "C:\\Users\\HP\\AppData\\Local\\Temp\\ipykernel_12424\\232067050.py:28: FutureWarning: The frame.append method is deprecated and will be removed from pandas in a future version. Use pandas.concat instead.\n",
      "  yankees_df = yankees_df.append({'MatNo': matno, 'Name': name, 'Age': age, 'Grade': grade}, ignore_index=True)\n",
      "C:\\Users\\HP\\AppData\\Local\\Temp\\ipykernel_12424\\232067050.py:26: FutureWarning: The frame.append method is deprecated and will be removed from pandas in a future version. Use pandas.concat instead.\n",
      "  pirates_df = pirates_df.append({'MatNo': matno, 'Name': name, 'Age': age, 'Grade': grade}, ignore_index=True)\n",
      "C:\\Users\\HP\\AppData\\Local\\Temp\\ipykernel_12424\\232067050.py:30: FutureWarning: The frame.append method is deprecated and will be removed from pandas in a future version. Use pandas.concat instead.\n",
      "  bulls_df = bulls_df.append({'MatNo': matno, 'Name': name, 'Age': age, 'Grade': grade}, ignore_index=True)\n",
      "C:\\Users\\HP\\AppData\\Local\\Temp\\ipykernel_12424\\232067050.py:26: FutureWarning: The frame.append method is deprecated and will be removed from pandas in a future version. Use pandas.concat instead.\n",
      "  pirates_df = pirates_df.append({'MatNo': matno, 'Name': name, 'Age': age, 'Grade': grade}, ignore_index=True)\n",
      "C:\\Users\\HP\\AppData\\Local\\Temp\\ipykernel_12424\\232067050.py:26: FutureWarning: The frame.append method is deprecated and will be removed from pandas in a future version. Use pandas.concat instead.\n",
      "  pirates_df = pirates_df.append({'MatNo': matno, 'Name': name, 'Age': age, 'Grade': grade}, ignore_index=True)\n",
      "C:\\Users\\HP\\AppData\\Local\\Temp\\ipykernel_12424\\232067050.py:28: FutureWarning: The frame.append method is deprecated and will be removed from pandas in a future version. Use pandas.concat instead.\n",
      "  yankees_df = yankees_df.append({'MatNo': matno, 'Name': name, 'Age': age, 'Grade': grade}, ignore_index=True)\n",
      "C:\\Users\\HP\\AppData\\Local\\Temp\\ipykernel_12424\\232067050.py:28: FutureWarning: The frame.append method is deprecated and will be removed from pandas in a future version. Use pandas.concat instead.\n",
      "  yankees_df = yankees_df.append({'MatNo': matno, 'Name': name, 'Age': age, 'Grade': grade}, ignore_index=True)\n",
      "C:\\Users\\HP\\AppData\\Local\\Temp\\ipykernel_12424\\232067050.py:28: FutureWarning: The frame.append method is deprecated and will be removed from pandas in a future version. Use pandas.concat instead.\n",
      "  yankees_df = yankees_df.append({'MatNo': matno, 'Name': name, 'Age': age, 'Grade': grade}, ignore_index=True)\n"
     ]
    }
   ],
   "source": [
    "import pandas as pd\n",
    "\n",
    "\n",
    "class SIS:\n",
    "    def __init__(self, file_path):\n",
    "        self.file_path = file_path\n",
    "        \n",
    "    def age_range(self):\n",
    "        # Read the csv file\n",
    "        df = pd.read_csv(self.file_path)\n",
    "        \n",
    "        # Create empty DataFrames for each category\n",
    "        pirates_df = pd.DataFrame()\n",
    "        yankees_df = pd.DataFrame()\n",
    "        bulls_df = pd.DataFrame()\n",
    "\n",
    "        # Iterate over each row in the DataFrame\n",
    "        for _, row in df.iterrows():\n",
    "            matno = row['MatNo']\n",
    "            name = row['Name']\n",
    "            age = row['Age']\n",
    "            grade = row['Grade']\n",
    "\n",
    "            # Classify the students ages\n",
    "            if 14 < age < 18:\n",
    "                pirates_df = pirates_df.append({'MatNo': matno, 'Name': name, 'Age': age, 'Grade': grade}, ignore_index=True)\n",
    "            elif 18 < age < 22:\n",
    "                yankees_df = yankees_df.append({'MatNo': matno, 'Name': name, 'Age': age, 'Grade': grade}, ignore_index=True)\n",
    "            elif age > 22:\n",
    "                bulls_df = bulls_df.append({'MatNo': matno, 'Name': name, 'Age': age, 'Grade': grade}, ignore_index=True)\n",
    "\n",
    "        # Write the categorized DataFrames to CSV files\n",
    "        pirates_df.to_csv('The_Pirates.csv', index=False)\n",
    "        yankees_df.to_csv('The_Yankees.csv', index=False)\n",
    "        bulls_df.to_csv('The_Bulls.csv', index=False)\n",
    "        \n",
    "        \n",
    "# Specify the file path of the sis.csv file\n",
    "file_path = 'sis.csv'\n",
    "\n",
    "# Create an instance for the class SIS\n",
    "run = SIS(file_path)\n",
    "\n",
    "# Create the files using the age_range method in the class\n",
    "run.age_range()\n",
    "\n",
    "        "
   ]
  },
  {
   "cell_type": "code",
   "execution_count": null,
   "id": "9b48ba74",
   "metadata": {},
   "outputs": [],
   "source": []
  }
 ],
 "metadata": {
  "kernelspec": {
   "display_name": "Python 3 (ipykernel)",
   "language": "python",
   "name": "python3"
  },
  "language_info": {
   "codemirror_mode": {
    "name": "ipython",
    "version": 3
   },
   "file_extension": ".py",
   "mimetype": "text/x-python",
   "name": "python",
   "nbconvert_exporter": "python",
   "pygments_lexer": "ipython3",
   "version": "3.10.9"
  }
 },
 "nbformat": 4,
 "nbformat_minor": 5
}
