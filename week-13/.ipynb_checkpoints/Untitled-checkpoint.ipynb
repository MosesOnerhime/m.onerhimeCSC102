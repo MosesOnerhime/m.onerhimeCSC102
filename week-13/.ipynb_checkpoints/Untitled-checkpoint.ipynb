{
 "cells": [
  {
   "cell_type": "code",
   "execution_count": 13,
   "id": "c713232f",
   "metadata": {},
   "outputs": [
    {
     "name": "stdout",
     "output_type": "stream",
     "text": [
      "Input the number of students: 2\n",
      "Input your fullname: Onerhime Mses\n",
      "Input your matriculation number: 22120613043\n",
      "What depertment are you in? Computer Science\n",
      "What level are you in? 100\n",
      "    Student Name Matric. Number        Depertment Level\n",
      "0  Onerhime Mses    22120613043  Computer Science   100\n",
      "Input your fullname: second student\n",
      "Input your matriculation number: 22120613044\n",
      "What depertment are you in? Engineering\n",
      "What level are you in? 100\n",
      "     Student Name Matric. Number        Depertment Level\n",
      "0   Onerhime Mses    22120613043  Computer Science   100\n",
      "1  second student    22120613044       Engineering   100\n"
     ]
    }
   ],
   "source": [
    "# Import the pandas library\n",
    "import pandas as pd\n",
    "\n",
    "# Create an empty list that will contain the student info\n",
    "student_info = []\n",
    "filename = \"PAU_SMIS.csv\"\n",
    "\n",
    "\n",
    "class SMIS():\n",
    "    def __init__(self, name, matric, depertment, level):\n",
    "        self.name = name\n",
    "        self.matric = matric\n",
    "        self.depertment = depertment\n",
    "        self.level = level\n",
    "        \n",
    "    # This method creates the file    \n",
    "    def create_file(self):\n",
    "        data = {\"Student Name\": self.name, \"Matric. Number\": self.matric, \"Depertment\": self.depertment, \"Level\": self.level}\n",
    "        student_info.append(data)\n",
    "        \n",
    "        df = pd.DataFrame(student_info)\n",
    "        df.to_csv(filename)\n",
    "        print(df)\n",
    "        \n",
    "\n",
    "student_frequency = int(input(\"Input the number of students: \"))\n",
    "\n",
    "for i in range(student_frequency):\n",
    "    name = input(\"Input your fullname: \")\n",
    "    matric = input(\"Input your matriculation number: \")\n",
    "    depertment = input(\"What depertment are you in? \")\n",
    "    level = input(\"What level are you in? \")\n",
    "    obj = SMIS(name,matric,depertment,level)\n",
    "    obj.create_file()\n"
   ]
  },
  {
   "cell_type": "markdown",
   "id": "b8552781",
   "metadata": {},
   "source": []
  },
  {
   "cell_type": "code",
   "execution_count": 29,
   "id": "a216413a",
   "metadata": {},
   "outputs": [
    {
     "name": "stdout",
     "output_type": "stream",
     "text": [
      "    Company  Date Founded  Company's Shares  Company's Liabilities  \\\n",
      "0     Enron          1987           1000000                 200000   \n",
      "1  Anderson          1936           1500000                 500000   \n",
      "2  GK Jones          2001           3000000                1500000   \n",
      "3      Mica          1996            250000                  50000   \n",
      "4      Dune          2008            800000                 300000   \n",
      "\n",
      "   Leverage(%)  \n",
      "0    80.000000  \n",
      "1    66.666667  \n",
      "2    50.000000  \n",
      "3    80.000000  \n",
      "4    62.500000  \n"
     ]
    }
   ],
   "source": [
    "# Import the pandas library\n",
    "import pandas as pd\n",
    "\n",
    "# Create an empty list that will contain the companies info\n",
    "companies_f = []\n",
    "filename = \"Companies.csv\"\n",
    "\n",
    "class Economy():\n",
    "    def __init__(self, company, date, asset, liability):\n",
    "        self.company = company\n",
    "        self.date = date\n",
    "        self.asset = asset\n",
    "        self.liability = liability\n",
    "        leverage = 0\n",
    "        \n",
    "    # This method calculates the leverage value in %\n",
    "    def leverage_calc(self):\n",
    "        self.leverage = (self.asset - self.liability)/self.asset\n",
    "        self.leverage = self.leverage * 100\n",
    "        \n",
    "    # this method creates the file\n",
    "    def create_file(self):\n",
    "        companies = {\"Company\": self.company, \"Date Founded\": self.date, \"Company's Shares\": self.asset, \"Company's Liabilities\": self.liability, \"Leverage(%)\": self.leverage}\n",
    "        companies_f.append(companies)\n",
    "        \n",
    "        global df\n",
    "        df = pd.DataFrame(companies_f)\n",
    "        df.to_csv(filename)\n",
    "        \n",
    "\n",
    "# Lists containing the companies data\n",
    "company_list = [\"Enron\", \"Anderson\", \"GK Jones\", \"Mica\", \"Dune\"]\n",
    "date_list = [1987, 1936, 2001, 1996, 2008]\n",
    "asset_list = [1000000, 1500000, 3000000, 250000, 800000]\n",
    "liability_list = [200000, 500000, 1500000, 50000, 300000]\n",
    "\n",
    "# Loop for each company\n",
    "for company, date, asset, liability in zip(company_list, date_list, asset_list, liability_list):\n",
    "    obj = Economy(company, date, asset, liability)\n",
    "    obj.leverage_calc()\n",
    "    obj.create_file()\n",
    "print(df)"
   ]
  },
  {
   "cell_type": "code",
   "execution_count": null,
   "id": "9189761b",
   "metadata": {},
   "outputs": [],
   "source": []
  }
 ],
 "metadata": {
  "kernelspec": {
   "display_name": "Python 3 (ipykernel)",
   "language": "python",
   "name": "python3"
  },
  "language_info": {
   "codemirror_mode": {
    "name": "ipython",
    "version": 3
   },
   "file_extension": ".py",
   "mimetype": "text/x-python",
   "name": "python",
   "nbconvert_exporter": "python",
   "pygments_lexer": "ipython3",
   "version": "3.10.9"
  }
 },
 "nbformat": 4,
 "nbformat_minor": 5
}
